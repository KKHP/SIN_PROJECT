{
 "metadata": {
  "language_info": {
   "codemirror_mode": {
    "name": "ipython",
    "version": 3
   },
   "file_extension": ".py",
   "mimetype": "text/x-python",
   "name": "python",
   "nbconvert_exporter": "python",
   "pygments_lexer": "ipython3",
   "version": "3.7.2-final"
  },
  "orig_nbformat": 2,
  "kernelspec": {
   "name": "python3",
   "display_name": "Python 3.7.2 64-bit",
   "metadata": {
    "interpreter": {
     "hash": "e534e48711db4d1e1c48977d0d14ff85b1f16d41bcc4fdfd88268a329b3c9d66"
    }
   }
  }
 },
 "nbformat": 4,
 "nbformat_minor": 2,
 "cells": [
  {
   "cell_type": "code",
   "execution_count": 1,
   "metadata": {},
   "outputs": [],
   "source": [
    "def read_data(graph_file): \n",
    "    f1 = open(graph_file, 'r')\n",
    "    first_line = f1.readline().split() \n",
    "    novert = int(first_line[0]) \n",
    "    noedge = int(first_line[1]) \n",
    "    graph = defaultdict(dict) \n",
    "    outdeg = defaultdict(int)\n",
    "    for line in f1.readlines(): \n",
    "        data = line.split() \n",
    "        outdeg[int(data[0])] += 1 \n",
    "        if float(data[2])>0:\n",
    "            graph[int(data[0])][int(data[1])] ={'weight': float(data[2])} \n",
    "        elif float(data[2])<0:\n",
    "            graph[int(data[0])][int(data[1])] ={'weight': -1*float(data[2])} \n",
    "    return novert, noedge, graph, outdeg"
   ]
  },
  {
   "cell_type": "code",
   "execution_count": 2,
   "metadata": {},
   "outputs": [],
   "source": [
    "def ICpropmodel(graph, seeds): \n",
    "    inf = seeds[:]\n",
    "    qu = inf[:]\n",
    "    while len(qu) != 0: \n",
    "        node = qu.pop(0)\n",
    "        for element in graph[node]: \n",
    "            if element not in inf:\n",
    "                probility = random.random()\n",
    "            if probility <= graph[node][element]['weight']: \n",
    "                inf.append(element)\n",
    "                qu.append(element) \n",
    "    noofinfl = len(inf) \n",
    "    return noofinfl"
   ]
  },
  {
   "cell_type": "code",
   "execution_count": 4,
   "metadata": {},
   "outputs": [],
   "source": [
    "def LTpropmodel(graph, seeds): \n",
    "    inf = seeds[:]\n",
    "    qu = inf[:]\n",
    "    pre_node_record = defaultdict(float)\n",
    "    threshold = defaultdict(float)\n",
    "    while len(qu) != 0: \n",
    "        node = qu.pop(0)\n",
    "        for element in graph[node]: \n",
    "            if element not in inf:\n",
    "                if threshold[element] == 0: \n",
    "                    threshold[element] = random.random()\n",
    "                pre_node_record[element] = pre_node_record[element] + graph[node][element]['weight'] #check this line\n",
    "                if  pre_node_record[element] >= threshold[element]:\n",
    "                    inf.append(element) \n",
    "                    qu.append(element)\n",
    "    noofinfl = len(inf) \n",
    "    return noofinfl"
   ]
  },
  {
   "cell_type": "code",
   "execution_count": null,
   "metadata": {},
   "outputs": [],
   "source": []
  }
 ]
}