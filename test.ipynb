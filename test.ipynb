{
 "metadata": {
  "language_info": {
   "codemirror_mode": {
    "name": "ipython",
    "version": 3
   },
   "file_extension": ".py",
   "mimetype": "text/x-python",
   "name": "python",
   "nbconvert_exporter": "python",
   "pygments_lexer": "ipython3",
   "version": "3.7.2-final"
  },
  "orig_nbformat": 2,
  "kernelspec": {
   "name": "python3",
   "display_name": "Python 3.7.2 64-bit",
   "metadata": {
    "interpreter": {
     "hash": "e534e48711db4d1e1c48977d0d14ff85b1f16d41bcc4fdfd88268a329b3c9d66"
    }
   }
  }
 },
 "nbformat": 4,
 "nbformat_minor": 2,
 "cells": [
  {
   "cell_type": "code",
   "execution_count": 5,
   "metadata": {},
   "outputs": [],
   "source": [
    "from collections import defaultdict\n",
    "import random\n",
    "import time\n",
    "import networkx as nx"
   ]
  },
  {
   "source": [
    "def read_data(graph_file): \n",
    "    f1 = open(graph_file, 'r')\n",
    "    first_line = f1.readline().split() \n",
    "    novert = int(first_line[0]) \n",
    "    noedge = int(first_line[1]) \n",
    "    graph = defaultdict(dict) \n",
    "    outdeg = defaultdict(int)\n",
    "    for line in f1.readlines(): \n",
    "        data = line.split() \n",
    "        outdeg[int(data[0])] += 1 \n",
    "        if float(data[2])>0:\n",
    "            graph[int(data[0])][int(data[1])] ={'weight': float(data[2])} \n",
    "        elif float(data[2])<0:\n",
    "            graph[int(data[0])][int(data[1])] ={'weight': -1*float(data[2])} \n",
    "    return novert, noedge, graph, outdeg"
   ],
   "cell_type": "code",
   "metadata": {},
   "execution_count": 6,
   "outputs": []
  },
  {
   "cell_type": "code",
   "execution_count": 7,
   "metadata": {},
   "outputs": [],
   "source": [
    "def ICpropmodel(graph, seeds): \n",
    "    inf = seeds[:]\n",
    "    qu = inf[:]\n",
    "    while len(qu) != 0: \n",
    "        node = qu.pop(0)\n",
    "        for element in graph[node]: \n",
    "            if element not in inf:\n",
    "                probility = random.random()\n",
    "            if probility <= graph[node][element]['weight']: \n",
    "                inf.append(element)\n",
    "                qu.append(element) \n",
    "    noofinfl = len(inf) \n",
    "    return noofinfl"
   ]
  },
  {
   "cell_type": "code",
   "execution_count": 4,
   "metadata": {},
   "outputs": [],
   "source": [
    "def LTpropmodel(graph, seeds): \n",
    "    inf = seeds[:]\n",
    "    qu = inf[:]\n",
    "    pre_node_record = defaultdict(float)\n",
    "    threshold = defaultdict(float)\n",
    "    while len(qu) != 0: \n",
    "        node = qu.pop(0)\n",
    "        for element in graph[node]: \n",
    "            if element not in inf:\n",
    "                if threshold[element] == 0: \n",
    "                    threshold[element] = random.random()\n",
    "                pre_node_record[element] = pre_node_record[element] + graph[node][element]['weight'] #check this line\n",
    "                if  pre_node_record[element] >= threshold[element]:\n",
    "                    inf.append(element) \n",
    "                    qu.append(element)\n",
    "    noofinfl = len(inf) \n",
    "    return noofinfl"
   ]
  },
  {
   "cell_type": "code",
   "execution_count": 8,
   "metadata": {},
   "outputs": [
    {
     "output_type": "error",
     "ename": "SyntaxError",
     "evalue": "invalid syntax (<ipython-input-8-9e0ba068f5ce>, line 12)",
     "traceback": [
      "\u001b[0;36m  File \u001b[0;32m\"<ipython-input-8-9e0ba068f5ce>\"\u001b[0;36m, line \u001b[0;32m12\u001b[0m\n\u001b[0;31m    path_length = nx.single_source_shortest_path_length nodes = G.nodes\u001b[0m\n\u001b[0m                                                            ^\u001b[0m\n\u001b[0;31mSyntaxError\u001b[0m\u001b[0;31m:\u001b[0m invalid syntax\n"
     ]
    }
   ],
   "source": []
  },
  {
   "cell_type": "code",
   "execution_count": 9,
   "metadata": {},
   "outputs": [
    {
     "output_type": "error",
     "ename": "IndentationError",
     "evalue": "unexpected indent (<ipython-input-9-71679080fde0>, line 23)",
     "traceback": [
      "\u001b[0;36m  File \u001b[0;32m\"<ipython-input-9-71679080fde0>\"\u001b[0;36m, line \u001b[0;32m23\u001b[0m\n\u001b[0;31m    closeness_centrality[n] *= s\u001b[0m\n\u001b[0m    ^\u001b[0m\n\u001b[0;31mIndentationError\u001b[0m\u001b[0;31m:\u001b[0m unexpected indent\n"
     ]
    }
   ],
   "source": [
    "#check again with intendation\n",
    "def propic(graph, novert, seed_size, outdeg):\n",
    "    test_count = 0\n",
    "    seeds = []\n",
    "    s_n_influnece = defaultdict(float)\n",
    "    G=graph\n",
    "    if G.is_directed():\n",
    "        s = 1.0 / (len(G) - 1.0)\n",
    "        degreecentrality = {n: d * s for n, d in G.out_degree()}\n",
    "        G = G.reverse()\n",
    "    else:\n",
    "        s = 1.0 / (len(G) - 1.0)\n",
    "        degreecentrality = {n: d * s for n, d in G.degree()}\n",
    "    path_length = nx.single_source_shortest_path_length\n",
    "    nodes = G.nodes\n",
    "    closeness_centrality = {}\n",
    "    for n in nodes:\n",
    "        sp = dict(path_length(G, n))\n",
    "        totsp = sum(sp.values())\n",
    "        if totsp > 0.0 and len(G) > 1: \n",
    "            closeness_centrality[n] = (len(sp) - 1.0) / totsp\n",
    "        s = (len(sp) - 1.0) / (len(G) - 1)\n",
    "            closeness_centrality[n] *= s\n",
    "        else:\n",
    "            closeness_centrality[n] = 0.0\n",
    "    while len(seeds) < seed_size:\n",
    "        if len(seeds) == 0:\n",
    "            for node in range(1, novert + 1):\n",
    "                s_n_influnece[node] = 0\n",
    "                if node in outdeg.keys():\n",
    "                    s_n_influnece[node] = (s_n_influnece[node] + ICpropmodel(graph, seeds+[node]))/novert\n",
    "                    if not closeness_centrality[node]==0:\n",
    "                        s_n_influnece[node]=s_n_influnece[node]*0.4+(1/closeness_centrality[node])*0.4+degreecentrality[node]*0.2\n",
    "                    else:\n",
    "                        s_n_influnece[node]=s_n_influnece[node]*0.4+(0)*0.2+degreecentrality[node]*0.4\n",
    "                max_seed = max(s_n_influnece, key=s_n_influnece.get)\n",
    "                s_n_influnece.pop(max_seed)\n",
    "                seeds.append(max_seed) \n",
    "                test_count+=1\n",
    "                elif len(seeds)!= 0:\n",
    "                    prev_best = max(s_n_influnece, key=s_n_influnece.get)\n",
    "                    s_n_influnece[prev_best] = 0\n",
    "                    marginal_profit = ICpropmodel(graph, seeds + [prev_best]) - ICpropmodel(graph, seeds)\n",
    "                    s_n_influnece[prev_best] += marginal_profit\n",
    "                    if not closeness_centrality[prev_best]==0:\n",
    "                        s_n_influnece[prev_best]=s_n_influnece[prev_best]*0.4+(1/closeness_centrality[prev_best])*0.4+degreecentrality[prev_best]*0.2\n",
    "                    else:\n",
    "                        s_n_influnece[prev_best]=s_n_influnece[prev_best]*0.4+(0)*0.2+degreecentrality[prev_best]*0.4\n",
    "                    current_seed = max(s_n_influnece, key=s_n_influnece.get)\n",
    "                    if current_seed == prev_best:\n",
    "                        seeds.append(current_seed)\n",
    "                        s_n_influnece.pop(current_seed)\n",
    "                    else:\n",
    "                        continue\n",
    "                    return seeds\n",
    "\n",
    "\n",
    "\n"
   ]
  },
  {
   "cell_type": "code",
   "execution_count": 10,
   "metadata": {},
   "outputs": [
    {
     "output_type": "error",
     "ename": "SyntaxError",
     "evalue": "invalid syntax (<ipython-input-10-9e0ba068f5ce>, line 12)",
     "traceback": [
      "\u001b[0;36m  File \u001b[0;32m\"<ipython-input-10-9e0ba068f5ce>\"\u001b[0;36m, line \u001b[0;32m12\u001b[0m\n\u001b[0;31m    path_length = nx.single_source_shortest_path_length nodes = G.nodes\u001b[0m\n\u001b[0m                                                            ^\u001b[0m\n\u001b[0;31mSyntaxError\u001b[0m\u001b[0;31m:\u001b[0m invalid syntax\n"
     ]
    }
   ],
   "source": [
    "def proplt(graph, novert, seed_size, outdeg):\n",
    "    seeds = []\n",
    "    s_n_influnece = defaultdict(float)\n",
    "    G=graph\n",
    "    if G.is_directed():\n",
    "        s = 1.0 / (len(G) - 1.0)\n",
    "        degreecentrality = {n: d * s for n, d in G.outdeg()}\n",
    "        G = G.reverse()\n",
    "    else:\n",
    "        s = 1.0 / (len(G) - 1.0)\n",
    "        degreecentrality = {n: d * s for n, d in G.degree()}\n",
    "    path_length = nx.single_source_shortest_path_length nodes = G.nodes\n",
    "    closeness_centrality = {}\n",
    "    for n in nodes:\n",
    "        sp = dict(path_length(G, n))\n",
    "        totsp = sum(sp.values())\n",
    "        if totsp > 0.0 and len(G) > 1:\n",
    "            closeness_centrality[n] = (len(sp) - 1.0) / totsp\n",
    "            s = (len(sp) - 1.0) / (len(G) - 1)\n",
    "            closeness_centrality[n] *= s\n",
    "        else:\n",
    "            closeness_centrality[n] = 0.0\n",
    "    while len(seeds) < seed_size:\n",
    "        if len(seeds) == 0:\n",
    "            for node in range(1, novert + 1):\n",
    "                s_n_influnece[node] = 0\n",
    "                if node in outdeg:\n",
    "                    single_node = []\n",
    "                    single_node.append(node)\n",
    "                    s_n_influnece[node]=( s_n_influnece[node] + LTpropmodel(graph, single_node))/novert\n",
    "                    if not closeness_centrality[node]==0:\n",
    "                        s_n_influnece[node]=s_n_influnece[node]*0.4+(1/closeness_centrality[node])*0.4+degreecentrality[node]*0.2\n",
    "                    else:\n",
    "                        s_n_influnece[node]=s_n_influnece[node]*0.4+(0)*0.2+degreecentrality[node]*0.4\n",
    "            max_seed = max(s_n_influnece, key=s_n_influnece.get)\n",
    "            s_n_influnece.pop(max_seed)\n",
    "            seeds.append(max_seed)\n",
    "        else:\n",
    "            prev_best = max(s_n_influnece, key=s_n_influnece.get)\n",
    "            s_n_influnece[prev_best] = 0\n",
    "            new_seeds = seeds + [prev_best]\n",
    "            marginal_profit = LTpropmodel(graph, new_seeds) - LTpropmodel(graph, seeds)\n",
    "            s_n_influnece[prev_best] = s_n_influnece[prev_best] + marginal_profit\n",
    "            if not closeness_centrality[prev_best]==0:\n",
    "                s_n_influnece[prev_best]=s_n_influnece[prev_best]*0.4+(1/closeness_centrality[prev_best])*0.4+degreecentrality[prev_best]*0.2\n",
    "            else:\n",
    "                s_n_influnece[prev_best]=s_n_influnece[prev_best]*0.4+(0)*0.2+degreecentrality[prev_be st]*0.4\n",
    "            current_seed = max(s_n_influnece, key=s_n_influnece.get)\n",
    "            if current_seed == prev_best:\n",
    "                seeds.append(current_seed)\n",
    "                s_n_influnece.pop(current_seed)\n",
    "            else:\n",
    "                continue\n",
    "    return seeds"
   ]
  },
  {
   "cell_type": "code",
   "execution_count": 11,
   "metadata": {},
   "outputs": [],
   "source": [
    "def inffind(graph, novert, seed_size, outdeg, model): \n",
    "    if model == \"IC\":\n",
    "        seeds = propic(graph, novert, seed_size, outdeg) \n",
    "    else:\n",
    "        seeds = proplt(graph, novert, seed_size, outdeg) \n",
    "    return seeds"
   ]
  },
  {
   "cell_type": "code",
   "execution_count": 12,
   "metadata": {},
   "outputs": [],
   "source": [
    "\n",
    "def calculate_average(graph, seeds, model): \n",
    "    if model == \"IC\":\n",
    "        count = 0\n",
    "        total_influence = 0 \n",
    "        while count < 1000:\n",
    "            total_influence += ICpropmodel(graph, seeds) \n",
    "            count += 1\n",
    "        IC_average = total_influence/count \n",
    "        average_result = IC_average\n",
    "    else:\n",
    "        count = 0\n",
    "        total_influence = 0 \n",
    "        while count < 1000:\n",
    "            total_influence += LTpropmodel(graph, seeds) \n",
    "            count += 1\n",
    "        LT_average = total_influence / count \n",
    "        average_result = LT_average\n",
    "    return average_result\n"
   ]
  },
  {
   "cell_type": "code",
   "execution_count": 13,
   "metadata": {},
   "outputs": [],
   "source": [
    "def getseeds(G, novert, seed_size, outdeg, model): \n",
    "    final_seeds = []\n",
    "    total_influence = 0\n",
    "    final_seeds = inffind(G, novert, seed_size, outdeg, model) \n",
    "    total_influence = calculate_average(G, final_seeds, model)\n",
    "    print(\"Hence the seeds selected for highest influence are\\n \", final_seeds)\n"
   ]
  },
  {
   "cell_type": "code",
   "execution_count": 17,
   "metadata": {},
   "outputs": [
    {
     "output_type": "error",
     "ename": "ValueError",
     "evalue": "invalid literal for int() with base 10: ''",
     "traceback": [
      "\u001b[0;31m---------------------------------------------------------------------------\u001b[0m",
      "\u001b[0;31mValueError\u001b[0m                                Traceback (most recent call last)",
      "\u001b[0;32m<ipython-input-17-190d785531d4>\u001b[0m in \u001b[0;36m<module>\u001b[0;34m\u001b[0m\n\u001b[0;32m----> 1\u001b[0;31m \u001b[0mchoice\u001b[0m \u001b[0;34m=\u001b[0m \u001b[0mint\u001b[0m\u001b[0;34m(\u001b[0m\u001b[0minput\u001b[0m\u001b[0;34m(\u001b[0m\u001b[0;34m'1-graph from text file \\n 2-random graph \\n'\u001b[0m\u001b[0;34m)\u001b[0m\u001b[0;34m)\u001b[0m\u001b[0;34m\u001b[0m\u001b[0;34m\u001b[0m\u001b[0m\n\u001b[0m\u001b[1;32m      2\u001b[0m \u001b[0;32mif\u001b[0m \u001b[0mchoice\u001b[0m\u001b[0;34m==\u001b[0m\u001b[0;36m1\u001b[0m\u001b[0;34m:\u001b[0m\u001b[0;34m\u001b[0m\u001b[0;34m\u001b[0m\u001b[0m\n\u001b[1;32m      3\u001b[0m     \u001b[0mgraph_file\u001b[0m\u001b[0;34m=\u001b[0m\u001b[0minput\u001b[0m\u001b[0;34m(\u001b[0m\u001b[0;34m'enter the name/directory of thefile: '\u001b[0m\u001b[0;34m)\u001b[0m\u001b[0;34m\u001b[0m\u001b[0;34m\u001b[0m\u001b[0m\n\u001b[1;32m      4\u001b[0m     \u001b[0mnovert\u001b[0m\u001b[0;34m,\u001b[0m \u001b[0mnoedge\u001b[0m\u001b[0;34m,\u001b[0m \u001b[0mgraph\u001b[0m\u001b[0;34m,\u001b[0m \u001b[0moutdeg\u001b[0m \u001b[0;34m=\u001b[0m\u001b[0mread_data\u001b[0m\u001b[0;34m(\u001b[0m\u001b[0mgraph_file\u001b[0m\u001b[0;34m)\u001b[0m\u001b[0;34m\u001b[0m\u001b[0;34m\u001b[0m\u001b[0m\n\u001b[1;32m      5\u001b[0m     \u001b[0mG\u001b[0m \u001b[0;34m=\u001b[0m \u001b[0mnx\u001b[0m\u001b[0;34m.\u001b[0m\u001b[0mDiGraph\u001b[0m\u001b[0;34m(\u001b[0m\u001b[0;34m)\u001b[0m\u001b[0;34m\u001b[0m\u001b[0;34m\u001b[0m\u001b[0m\n",
      "\u001b[0;31mValueError\u001b[0m: invalid literal for int() with base 10: ''"
     ]
    }
   ],
   "source": [
    "choice = int(input('1-graph from text file \\n 2-random graph \\n')) \n",
    "if choice==1:\n",
    "    graph_file=input('enter the name/directory of thefile: ') \n",
    "    novert, noedge, graph, outdeg =read_data(graph_file) \n",
    "    G = nx.DiGraph()\n",
    "    G.add_nodes_from(graph)\n",
    "    G.add_edges_from(((u, v, data)for u, nbrs in graph.items()for v, data in nbrs.items()))\n",
    "elif choice==2:\n",
    "    novert=int(input('enter the number of vertices for Erdős-Rényi graph: '))\n",
    "    prob=float(input('enter the probability for node establishment: '))\n",
    "    G=nx.fast_gnp_random_graph(novert, prob, seed=None, directed=True)\n",
    "    noedge=nx.number_of_edges(G)\n",
    "    for (u, v) in G.edges():\n",
    "        G.edges[u,v]['weight'] =random.random()\n",
    "        outdeg={}\n",
    "    for i in G.nodes():\n",
    "        outdeg[i]=G.out_degre\n",
    "        e(i)\n",
    "    print(noedge)\n",
    "seed_size=int(input('enter the no of seeds required: '))\n",
    "model=input('Propagation models:\\nIC - INDEPENDENT CASCADE\\nLT - LINEAR THRESHOLD\\nenter: ')\n",
    "start_time = time.time()\n",
    "getseeds(G, novert, seed_size, outdeg, model)\n",
    "print(\"execution time = \",time.time() - start_time,\"ms\")    \n"
   ]
  },
  {
   "cell_type": "code",
   "execution_count": null,
   "metadata": {},
   "outputs": [],
   "source": []
  }
 ]
}